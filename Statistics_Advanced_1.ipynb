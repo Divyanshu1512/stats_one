{
  "nbformat": 4,
  "nbformat_minor": 0,
  "metadata": {
    "colab": {
      "provenance": []
    },
    "kernelspec": {
      "name": "python3",
      "display_name": "Python 3"
    },
    "language_info": {
      "name": "python"
    }
  },
  "cells": [
    {
      "cell_type": "markdown",
      "source": [
        "1. What is a random variable in probability theory?\n",
        "- function that assigns a numerical value to each outcome in the sample space of a random experiment, making it possible to analyze and quantify random possibility.\n",
        "\n",
        "- Types of Random Variables\n",
        "\n",
        "   - Discrete random variables\n",
        "\n",
        "   - Continuous random variables\n",
        "\n"
      ],
      "metadata": {
        "id": "Js1Fzk7qVfhR"
      }
    },
    {
      "cell_type": "markdown",
      "source": [
        "2. What are the types of random variables?\n",
        "- Discrete random variables - it contains the whole number or finite number.\n",
        "For example- tossing a coin and getting 2 heads then probability will be in Discrete form.\n",
        "\n",
        "\n",
        "Continuous random variables- it contains very small value\n",
        "\n",
        "For example-finding any point in a line which can be infinite possibility\n"
      ],
      "metadata": {
        "id": "dmO5umO_Y1gV"
      }
    },
    {
      "cell_type": "markdown",
      "source": [
        "3. Explain the difference between discrete and continuous distributions."
      ],
      "metadata": {
        "id": "01HgzoggaJsf"
      }
    },
    {
      "cell_type": "markdown",
      "source": [
        " -  Discrete distributions represent random variables that can take only specific, countable values.\n",
        "\n",
        "Probabilities are assigned directly to each possible value, and the sum of these probabilities is always 1.\n",
        "probability mass function (PMF)  is the type of discrete random variable .\n",
        "\n",
        "Continuous distributions represent random variables that can take any value within a range or interval .\n",
        "\n",
        "Probabilities cannot be assigned to individual values; instead, they are assigned to intervals by calculating the area under the curve of a probability density function (PDF).\n"
      ],
      "metadata": {
        "id": "jexhKjCFaLKw"
      }
    },
    {
      "cell_type": "markdown",
      "source": [
        "4. What is a binomial distribution, and how is it used in probability?\n",
        "-  Probability in which possible outcomes are fixed and to be more specific it must be 2 only like head or tails,rain will come or not.\n",
        "\n",
        "And each trial must have equal type of probability,in the other word we can simply say each possibility must be independent. It should not depend upon other possibilities,for example tossing a coin 10 times then each possibility is independent and does not depend on another outcome.\n"
      ],
      "metadata": {
        "id": "fl_D8CsKaP3E"
      }
    },
    {
      "cell_type": "markdown",
      "source": [
        "5. What is the standard normal distribution, and why is it important?\n",
        "- The standard normal distribution is a specific type of normal (bell-curve) distribution that has a mean of 0 and a standard deviation of 1.\n",
        "And there are 3 standard level we must need to understand\n",
        "- Which is-\n",
        " - First 68% also we can say (mean + 1 ) Standard deviation\n",
        " - Second 95% also we can say (mean + 2) Standard deviation\n",
        " - Third 99.7% also we can say (mean + 1) Standard deviation\n",
        "\n",
        "- IMPORTANCE\n",
        "  - It helps to find the probability using the z table so easily .\n",
        "  - Crucial probability can we find using z table\n"
      ],
      "metadata": {
        "id": "8-wWrEgyadzv"
      }
    },
    {
      "cell_type": "markdown",
      "source": [
        " 6. What is the Central Limit Theorem (CLT), and why is it critical in statistics?"
      ],
      "metadata": {
        "id": "QkUCZJZtavtd"
      }
    },
    {
      "cell_type": "markdown",
      "source": [
        "- The Central Limit Theorem (CLT) states that when sampling from any population with a finite variance. the sample size becomes large, regardless of the population's original distribution.\n",
        "So we start using sampling that sample must be more than 30 units or 30 different cases\n"
      ],
      "metadata": {
        "id": "qRzt7gkDayFw"
      }
    },
    {
      "cell_type": "markdown",
      "source": [
        "7.  What is the significance of confidence intervals in statistical analysis?\n",
        "-  confidence intervals is the interval in which we can find the true value of the mean must lie for example we take a group and wants to the mean of their height then we’ll create several sample and find mean of the sample then after finding the mean of the each sample then we just find the range in which our mean or most of the data will lie and easy to find the probability\n",
        "- First 68% (means 68%of data will between in this level)  also we can say (mean + 1 ) Standard deviation\n",
        "- Second 95% (means 95%of data will between in this level) also we can say (mean + 2) Standard deviation\n",
        "- Third 99.7%(means 99.7%of data will between in this level) also we can say (mean + 1) Standard deviation\n",
        "- Their values also help to find the mean.\n"
      ],
      "metadata": {
        "id": "khbJwEeua2tU"
      }
    },
    {
      "cell_type": "markdown",
      "source": [
        "8. What is the concept of expected value in a probability distribution?\n",
        "\n",
        "-  Expected value in a probability distributions define the mean / avg value of the larger time frame and the outcome or any data related to it will mostly like to come between the range of the mean to +2 standard deviation,It represents the central tendency or the typical value one would anticipate if an experiment or random process were repeated many times.\n"
      ],
      "metadata": {
        "id": "ZhFHh3fybE-K"
      }
    },
    {
      "cell_type": "markdown",
      "source": [
        "9. Write a Python program to generate 1000 random numbers from a normal distribution with mean = 50 and standard deviation = 5. Compute its mean and standard deviation using NumPy, and draw a histogram to visualize the distribution. (Include your Python code and output in the code box below.)"
      ],
      "metadata": {
        "id": "vcT5LzqAbIuy"
      }
    },
    {
      "cell_type": "code",
      "source": [
        "import numpy as np\n",
        "import matplotlib.pyplot as plt\n",
        "import seaborn as sns\n",
        "data = np.random.normal(50, 5, 1000)\n",
        "print(\"Mean\", np.mean(data))\n",
        "print(\"Std Dev:\", np.std(data))\n",
        "\n",
        "plt.hist(data, bins=40, color='skyblue', edgecolor='black')\n",
        "\n",
        "plt.show()"
      ],
      "metadata": {
        "colab": {
          "base_uri": "https://localhost:8080/",
          "height": 469
        },
        "id": "qT0iF6lUbNsE",
        "outputId": "e9f7f196-f357-4e4b-ca60-f7fb6f9ac708"
      },
      "execution_count": 2,
      "outputs": [
        {
          "output_type": "stream",
          "name": "stdout",
          "text": [
            "Mean 49.97250065179774\n",
            "Std Dev: 4.934215458686133\n"
          ]
        },
        {
          "output_type": "display_data",
          "data": {
            "text/plain": [
              "<Figure size 640x480 with 1 Axes>"
            ],
            "image/png": "[encoded data removed]"
          },
          "metadata": {}
        }
      ]
    },
    {
      "cell_type": "markdown",
      "source": [
        "10. You are working as a data analyst for a retail company. The company has collected daily sales data for 2 years and wants you to identify the overall sales trend.\n",
        " daily_sales = [220, 245, 210, 265, 230, 250, 260, 275, 240, 255, 235, 260, 245, 250, 225, 270, 265, 255, 250, 260]\n",
        "● Explain how you would apply the Central Limit Theorem to estimate the average sales with a 95% confidence interval.\n",
        "● Write the Python code to compute the mean sales and its confidence interval.\n"
      ],
      "metadata": {
        "id": "KSr2umVBbOP6"
      }
    },
    {
      "cell_type": "code",
      "source": [
        "from scipy import stats\n",
        "import numpy as np\n",
        "\n",
        "\n",
        "daily_sales = [220, 245, 210, 265, 230, 250, 260, 275, 240, 255, 235, 260, 245, 250, 225, 270, 265, 255, 250, 260]\n",
        "\n",
        "mean=np.mean(daily_sales)\n",
        "\n",
        "strnd=np.std(daily_sales)\n",
        "\n",
        "size=len(daily_sales)\n",
        "\n",
        "confidence_level=0.95\n",
        "\n",
        "t_value = stats.t.ppf((1+ confidence_level) / 2, df=size-1)\n",
        "\n",
        "margin_of_error = t_value*(strnd/np.sqrt(size))\n",
        "\n",
        "lower_bound = mean- margin_of_error\n",
        "\n",
        "upper_bound= mean-margin_of_error\n",
        "\n",
        "print(\"Average daily sales:\", mean)\n",
        "\n",
        "print(\"95% confidence interval: from\", lower_bound, \"to\", upper_bound)"
      ],
      "metadata": {
        "colab": {
          "base_uri": "https://localhost:8080/"
        },
        "id": "SAr7ZzhYbS-m",
        "outputId": "3af044a1-f021-4716-c71d-bd376b75b287"
      },
      "execution_count": 5,
      "outputs": [
        {
          "output_type": "stream",
          "name": "stdout",
          "text": [
            "Average daily sales: 248.25\n",
            "95% confidence interval: from 240.37417130234172 to 240.37417130234172\n"
          ]
        }
      ]
    }
  ]
}